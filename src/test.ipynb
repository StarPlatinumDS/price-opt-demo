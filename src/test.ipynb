{
 "cells": [
  {
   "cell_type": "code",
   "id": "initial_id",
   "metadata": {
    "collapsed": true,
    "ExecuteTime": {
     "end_time": "2025-03-31T15:59:04.279294Z",
     "start_time": "2025-03-31T15:59:03.962598Z"
    }
   },
   "source": [
    "from pricing_optimizer import (\n",
    "    simulate_dataset,\n",
    "    prepare_features,\n",
    "    train_demand_model,\n",
    "    batch_optimize_prices\n",
    ")\n",
    "\n",
    "data = simulate_dataset()"
   ],
   "outputs": [],
   "execution_count": 1
  },
  {
   "metadata": {
    "ExecuteTime": {
     "end_time": "2025-03-31T15:59:46.402864Z",
     "start_time": "2025-03-31T15:59:46.304151Z"
    }
   },
   "cell_type": "code",
   "source": [
    "features, target = prepare_features(data)\n",
    "\n",
    "model, X_train, metrics = train_demand_model(features, target)\n",
    "print(\"Model Performance:\")\n",
    "print(f\"MSE: {metrics['mse']:.2f}\")\n",
    "print(f\"R^2: {metrics['r2']:.2f}\")"
   ],
   "id": "2123f033a24b31f4",
   "outputs": [
    {
     "name": "stdout",
     "output_type": "stream",
     "text": [
      "Model Performance:\n",
      "MSE: 26.21\n",
      "R^2: 0.95\n"
     ]
    }
   ],
   "execution_count": 2
  },
  {
   "metadata": {
    "ExecuteTime": {
     "end_time": "2025-03-31T16:00:55.386066Z",
     "start_time": "2025-03-31T16:00:55.261824Z"
    }
   },
   "cell_type": "code",
   "source": [
    "optimal_prices_df = batch_optimize_prices(model, X_train)\n",
    "\n",
    "print(\"Top Recommended Prices:\")\n",
    "optimal_prices_df.head()"
   ],
   "id": "5ca0fc34ced6e7f9",
   "outputs": [
    {
     "name": "stdout",
     "output_type": "stream",
     "text": [
      "Top Recommended Prices:\n"
     ]
    },
    {
     "data": {
      "text/plain": [
       "  product_id day_of_week  optimal_price  expected_revenue\n",
       "4          A         Fri      49.438202       2473.629708\n",
       "0          A         Mon      49.438202       2473.629708\n",
       "5          A         Sat      49.438202       2502.964138\n",
       "6          A         Sun      49.438202       2509.618799\n",
       "3          A         Thu      49.438202       2507.307046"
      ],
      "text/html": [
       "<div>\n",
       "<style scoped>\n",
       "    .dataframe tbody tr th:only-of-type {\n",
       "        vertical-align: middle;\n",
       "    }\n",
       "\n",
       "    .dataframe tbody tr th {\n",
       "        vertical-align: top;\n",
       "    }\n",
       "\n",
       "    .dataframe thead th {\n",
       "        text-align: right;\n",
       "    }\n",
       "</style>\n",
       "<table border=\"1\" class=\"dataframe\">\n",
       "  <thead>\n",
       "    <tr style=\"text-align: right;\">\n",
       "      <th></th>\n",
       "      <th>product_id</th>\n",
       "      <th>day_of_week</th>\n",
       "      <th>optimal_price</th>\n",
       "      <th>expected_revenue</th>\n",
       "    </tr>\n",
       "  </thead>\n",
       "  <tbody>\n",
       "    <tr>\n",
       "      <th>4</th>\n",
       "      <td>A</td>\n",
       "      <td>Fri</td>\n",
       "      <td>49.438202</td>\n",
       "      <td>2473.629708</td>\n",
       "    </tr>\n",
       "    <tr>\n",
       "      <th>0</th>\n",
       "      <td>A</td>\n",
       "      <td>Mon</td>\n",
       "      <td>49.438202</td>\n",
       "      <td>2473.629708</td>\n",
       "    </tr>\n",
       "    <tr>\n",
       "      <th>5</th>\n",
       "      <td>A</td>\n",
       "      <td>Sat</td>\n",
       "      <td>49.438202</td>\n",
       "      <td>2502.964138</td>\n",
       "    </tr>\n",
       "    <tr>\n",
       "      <th>6</th>\n",
       "      <td>A</td>\n",
       "      <td>Sun</td>\n",
       "      <td>49.438202</td>\n",
       "      <td>2509.618799</td>\n",
       "    </tr>\n",
       "    <tr>\n",
       "      <th>3</th>\n",
       "      <td>A</td>\n",
       "      <td>Thu</td>\n",
       "      <td>49.438202</td>\n",
       "      <td>2507.307046</td>\n",
       "    </tr>\n",
       "  </tbody>\n",
       "</table>\n",
       "</div>"
      ]
     },
     "execution_count": 4,
     "metadata": {},
     "output_type": "execute_result"
    }
   ],
   "execution_count": 4
  },
  {
   "metadata": {},
   "cell_type": "code",
   "outputs": [],
   "execution_count": null,
   "source": "",
   "id": "5cbf878541255b6f"
  }
 ],
 "metadata": {
  "kernelspec": {
   "display_name": "Python 3",
   "language": "python",
   "name": "python3"
  },
  "language_info": {
   "codemirror_mode": {
    "name": "ipython",
    "version": 2
   },
   "file_extension": ".py",
   "mimetype": "text/x-python",
   "name": "python",
   "nbconvert_exporter": "python",
   "pygments_lexer": "ipython2",
   "version": "2.7.6"
  }
 },
 "nbformat": 4,
 "nbformat_minor": 5
}
